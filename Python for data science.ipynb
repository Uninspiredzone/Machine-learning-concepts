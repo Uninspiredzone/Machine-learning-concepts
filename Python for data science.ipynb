{
 "cells": [
  {
   "cell_type": "markdown",
   "id": "8f4fb12a",
   "metadata": {},
   "source": [
    "# Import NumPy as np"
   ]
  },
  {
   "cell_type": "code",
   "execution_count": 2,
   "id": "bbcba83e",
   "metadata": {},
   "outputs": [],
   "source": [
    "import numpy as np"
   ]
  },
  {
   "cell_type": "markdown",
   "id": "73394db2",
   "metadata": {},
   "source": [
    "# Create an array of 10 zeros"
   ]
  },
  {
   "cell_type": "code",
   "execution_count": 3,
   "id": "21dd8312",
   "metadata": {},
   "outputs": [],
   "source": [
    "a=np.zeros(10)"
   ]
  },
  {
   "cell_type": "code",
   "execution_count": 4,
   "id": "9be8abd4",
   "metadata": {},
   "outputs": [
    {
     "data": {
      "text/plain": [
       "array([0., 0., 0., 0., 0., 0., 0., 0., 0., 0.])"
      ]
     },
     "execution_count": 4,
     "metadata": {},
     "output_type": "execute_result"
    }
   ],
   "source": [
    "a"
   ]
  },
  {
   "cell_type": "markdown",
   "id": "cc2b0cb2",
   "metadata": {},
   "source": [
    "# Create an array of 10 ones"
   ]
  },
  {
   "cell_type": "code",
   "execution_count": 5,
   "id": "330c5b9a",
   "metadata": {},
   "outputs": [],
   "source": [
    "b=np.ones(10)"
   ]
  },
  {
   "cell_type": "code",
   "execution_count": 6,
   "id": "ae40606a",
   "metadata": {},
   "outputs": [
    {
     "data": {
      "text/plain": [
       "array([1., 1., 1., 1., 1., 1., 1., 1., 1., 1.])"
      ]
     },
     "execution_count": 6,
     "metadata": {},
     "output_type": "execute_result"
    }
   ],
   "source": [
    "b"
   ]
  },
  {
   "cell_type": "markdown",
   "id": "c58a0899",
   "metadata": {},
   "source": [
    "# Create an array of 10 fives"
   ]
  },
  {
   "cell_type": "code",
   "execution_count": 8,
   "id": "4eeb87de",
   "metadata": {},
   "outputs": [],
   "source": [
    "c=np.full(10,5)"
   ]
  },
  {
   "cell_type": "code",
   "execution_count": 9,
   "id": "5cf60c32",
   "metadata": {},
   "outputs": [
    {
     "data": {
      "text/plain": [
       "array([5, 5, 5, 5, 5, 5, 5, 5, 5, 5])"
      ]
     },
     "execution_count": 9,
     "metadata": {},
     "output_type": "execute_result"
    }
   ],
   "source": [
    "c"
   ]
  },
  {
   "cell_type": "markdown",
   "id": "b47dee1e",
   "metadata": {},
   "source": [
    "# Create an array of the integers from 10 to 50"
   ]
  },
  {
   "cell_type": "code",
   "execution_count": 11,
   "id": "0d6cee20",
   "metadata": {},
   "outputs": [
    {
     "name": "stdout",
     "output_type": "stream",
     "text": [
      "[10 11 12 13 14 15 16 17 18 19 20 21 22 23 24 25 26 27 28 29 30 31 32 33\n",
      " 34 35 36 37 38 39 40 41 42 43 44 45 46 47 48 49 50]\n"
     ]
    }
   ],
   "source": [
    "arr=np.arange(10,51)\n",
    "print(arr)"
   ]
  },
  {
   "cell_type": "markdown",
   "id": "f76c2135",
   "metadata": {},
   "source": [
    "# Create an array of all the even integers from 10 to 50"
   ]
  },
  {
   "cell_type": "code",
   "execution_count": 12,
   "id": "1b027c1a",
   "metadata": {},
   "outputs": [
    {
     "name": "stdout",
     "output_type": "stream",
     "text": [
      "[10 12 14 16 18 20 22 24 26 28 30 32 34 36 38 40 42 44 46 48 50]\n"
     ]
    }
   ],
   "source": [
    "arr=np.arange(10,51,2)\n",
    "print(arr)"
   ]
  },
  {
   "cell_type": "markdown",
   "id": "52c95a98",
   "metadata": {},
   "source": [
    "# Create a 3x3 matrix with values ranging from 0 to 8"
   ]
  },
  {
   "cell_type": "code",
   "execution_count": 13,
   "id": "bb69c27f",
   "metadata": {},
   "outputs": [],
   "source": [
    "x=np.array([[[0,1,2],[3,4,5],[6,7,8]]])"
   ]
  },
  {
   "cell_type": "code",
   "execution_count": 14,
   "id": "7ed3bb4e",
   "metadata": {},
   "outputs": [
    {
     "data": {
      "text/plain": [
       "array([[[0, 1, 2],\n",
       "        [3, 4, 5],\n",
       "        [6, 7, 8]]])"
      ]
     },
     "execution_count": 14,
     "metadata": {},
     "output_type": "execute_result"
    }
   ],
   "source": [
    "x"
   ]
  },
  {
   "cell_type": "markdown",
   "id": "5db0acf1",
   "metadata": {},
   "source": [
    "# Create a 3x3 identity matrix"
   ]
  },
  {
   "cell_type": "code",
   "execution_count": 15,
   "id": "e084567a",
   "metadata": {},
   "outputs": [],
   "source": [
    "w=np.eye(3)"
   ]
  },
  {
   "cell_type": "code",
   "execution_count": 16,
   "id": "5293f32c",
   "metadata": {},
   "outputs": [
    {
     "data": {
      "text/plain": [
       "array([[1., 0., 0.],\n",
       "       [0., 1., 0.],\n",
       "       [0., 0., 1.]])"
      ]
     },
     "execution_count": 16,
     "metadata": {},
     "output_type": "execute_result"
    }
   ],
   "source": [
    "w"
   ]
  },
  {
   "cell_type": "markdown",
   "id": "865da88e",
   "metadata": {},
   "source": [
    "# Use NumPy to generate a random number between 0 and 1"
   ]
  },
  {
   "cell_type": "code",
   "execution_count": 17,
   "id": "9be0a6b1",
   "metadata": {},
   "outputs": [
    {
     "name": "stdout",
     "output_type": "stream",
     "text": [
      "0.35723041231668873\n"
     ]
    }
   ],
   "source": [
    "j=np.random.rand()\n",
    "print(j)"
   ]
  },
  {
   "cell_type": "markdown",
   "id": "c7b1c9b3",
   "metadata": {},
   "source": [
    "# Use NumPy to generate an array of 25 random numbers sampled from a standard normal distribution"
   ]
  },
  {
   "cell_type": "code",
   "execution_count": 18,
   "id": "ef359705",
   "metadata": {},
   "outputs": [
    {
     "name": "stdout",
     "output_type": "stream",
     "text": [
      "[ 1.25672915  1.58980986 -0.76339614 -0.40612831 -1.60040518  2.06121143\n",
      "  0.71280324 -0.51572333  2.29829254 -1.00007662 -0.63890038 -0.58691598\n",
      "  0.50198629  0.17710587 -1.96003092  0.92998831 -0.05962203 -0.1014562\n",
      " -0.94893058 -2.01991079 -0.17672986  0.01520591 -0.04165433  0.85243855\n",
      " -0.62033224]\n"
     ]
    }
   ],
   "source": [
    "d=np.random.randn(25)\n",
    "print(d)"
   ]
  },
  {
   "cell_type": "markdown",
   "id": "1340b79a",
   "metadata": {},
   "source": [
    "# Create the following matrix:"
   ]
  },
  {
   "cell_type": "code",
   "execution_count": 19,
   "id": "eb96cf08",
   "metadata": {},
   "outputs": [
    {
     "name": "stdout",
     "output_type": "stream",
     "text": [
      "[[0.01 0.02 0.03 0.04 0.05 0.06 0.07 0.08 0.09 0.1 ]\n",
      " [0.11 0.12 0.13 0.14 0.15 0.16 0.17 0.18 0.19 0.2 ]\n",
      " [0.21 0.22 0.23 0.24 0.25 0.26 0.27 0.28 0.29 0.3 ]\n",
      " [0.31 0.32 0.33 0.34 0.35 0.36 0.37 0.38 0.39 0.4 ]\n",
      " [0.41 0.42 0.43 0.44 0.45 0.46 0.47 0.48 0.49 0.5 ]\n",
      " [0.51 0.52 0.53 0.54 0.55 0.56 0.57 0.58 0.59 0.6 ]\n",
      " [0.61 0.62 0.63 0.64 0.65 0.66 0.67 0.68 0.69 0.7 ]\n",
      " [0.71 0.72 0.73 0.74 0.75 0.76 0.77 0.78 0.79 0.8 ]\n",
      " [0.81 0.82 0.83 0.84 0.85 0.86 0.87 0.88 0.89 0.9 ]\n",
      " [0.91 0.92 0.93 0.94 0.95 0.96 0.97 0.98 0.99 1.  ]]\n"
     ]
    }
   ],
   "source": [
    "e=np.arange(0.01,1.01,0.01).reshape(10,10)\n",
    "print(e)"
   ]
  },
  {
   "cell_type": "markdown",
   "id": "c19ebe98",
   "metadata": {},
   "source": [
    "# Create an array of 20 linearly spaced points between 0 and 1:"
   ]
  },
  {
   "cell_type": "code",
   "execution_count": 20,
   "id": "2841f3c8",
   "metadata": {},
   "outputs": [
    {
     "name": "stdout",
     "output_type": "stream",
     "text": [
      "[0.         0.05263158 0.10526316 0.15789474 0.21052632 0.26315789\n",
      " 0.31578947 0.36842105 0.42105263 0.47368421 0.52631579 0.57894737\n",
      " 0.63157895 0.68421053 0.73684211 0.78947368 0.84210526 0.89473684\n",
      " 0.94736842 1.        ]\n"
     ]
    }
   ],
   "source": [
    "k=np.linspace(0,1,20)\n",
    "print(k)"
   ]
  },
  {
   "cell_type": "markdown",
   "id": "aa09a481",
   "metadata": {},
   "source": [
    "# Numpy Indexing and Selection"
   ]
  },
  {
   "cell_type": "code",
   "execution_count": 21,
   "id": "bfa6819d",
   "metadata": {},
   "outputs": [
    {
     "data": {
      "text/plain": [
       "array([[ 1,  2,  3,  4,  5],\n",
       "       [ 6,  7,  8,  9, 10],\n",
       "       [11, 12, 13, 14, 15],\n",
       "       [16, 17, 18, 19, 20],\n",
       "       [21, 22, 23, 24, 25]])"
      ]
     },
     "execution_count": 21,
     "metadata": {},
     "output_type": "execute_result"
    }
   ],
   "source": [
    "mat = np.arange(1,26).reshape(5,5)\n",
    "mat"
   ]
  },
  {
   "cell_type": "code",
   "execution_count": 22,
   "id": "566ae175",
   "metadata": {},
   "outputs": [
    {
     "data": {
      "text/plain": [
       "array([[12, 13, 14, 15],\n",
       "       [17, 18, 19, 20],\n",
       "       [22, 23, 24, 25]])"
      ]
     },
     "execution_count": 22,
     "metadata": {},
     "output_type": "execute_result"
    }
   ],
   "source": [
    "mat[2:,1:5]"
   ]
  },
  {
   "cell_type": "code",
   "execution_count": 23,
   "id": "fadb63ab",
   "metadata": {},
   "outputs": [
    {
     "data": {
      "text/plain": [
       "20"
      ]
     },
     "execution_count": 23,
     "metadata": {},
     "output_type": "execute_result"
    }
   ],
   "source": [
    "mat[3,4]"
   ]
  },
  {
   "cell_type": "code",
   "execution_count": 24,
   "id": "e5574df2",
   "metadata": {},
   "outputs": [
    {
     "data": {
      "text/plain": [
       "array([[ 2],\n",
       "       [ 7],\n",
       "       [12]])"
      ]
     },
     "execution_count": 24,
     "metadata": {},
     "output_type": "execute_result"
    }
   ],
   "source": [
    "mat[0:3 ,1:2]"
   ]
  },
  {
   "cell_type": "code",
   "execution_count": 25,
   "id": "c3e1df56",
   "metadata": {},
   "outputs": [
    {
     "data": {
      "text/plain": [
       "array([21, 22, 23, 24, 25])"
      ]
     },
     "execution_count": 25,
     "metadata": {},
     "output_type": "execute_result"
    }
   ],
   "source": [
    " mat[-1,:]"
   ]
  },
  {
   "cell_type": "code",
   "execution_count": 26,
   "id": "7f357d04",
   "metadata": {},
   "outputs": [
    {
     "data": {
      "text/plain": [
       "array([[16, 17, 18, 19, 20],\n",
       "       [21, 22, 23, 24, 25]])"
      ]
     },
     "execution_count": 26,
     "metadata": {},
     "output_type": "execute_result"
    }
   ],
   "source": [
    "mat[-2:,:]"
   ]
  },
  {
   "cell_type": "markdown",
   "id": "c95829fe",
   "metadata": {},
   "source": [
    "# Get the sum of all the values in mat"
   ]
  },
  {
   "cell_type": "code",
   "execution_count": 27,
   "id": "753b44ea",
   "metadata": {},
   "outputs": [
    {
     "data": {
      "text/plain": [
       "325"
      ]
     },
     "execution_count": 27,
     "metadata": {},
     "output_type": "execute_result"
    }
   ],
   "source": [
    "mat.sum()"
   ]
  },
  {
   "cell_type": "markdown",
   "id": "7170e23a",
   "metadata": {},
   "source": [
    "# Get the standard deviation of the values in mat"
   ]
  },
  {
   "cell_type": "code",
   "execution_count": 28,
   "id": "08d04d59",
   "metadata": {},
   "outputs": [],
   "source": [
    "o=np.std(mat)"
   ]
  },
  {
   "cell_type": "code",
   "execution_count": 29,
   "id": "d1c3e384",
   "metadata": {},
   "outputs": [
    {
     "data": {
      "text/plain": [
       "7.211102550927978"
      ]
     },
     "execution_count": 29,
     "metadata": {},
     "output_type": "execute_result"
    }
   ],
   "source": [
    "o"
   ]
  },
  {
   "cell_type": "markdown",
   "id": "0eb5f2c0",
   "metadata": {},
   "source": [
    "# Get the sum of all the columns in mat\n"
   ]
  },
  {
   "cell_type": "code",
   "execution_count": 30,
   "id": "e0b61d07",
   "metadata": {},
   "outputs": [
    {
     "name": "stdout",
     "output_type": "stream",
     "text": [
      "[55, 60, 65, 70, 75]\n"
     ]
    }
   ],
   "source": [
    "c=np.sum(mat,axis=0)\n",
    "print(c.tolist())"
   ]
  },
  {
   "cell_type": "code",
   "execution_count": 31,
   "id": "7c93e3dd",
   "metadata": {},
   "outputs": [],
   "source": [
    "u=np.array([55,60,65,70,75])"
   ]
  },
  {
   "cell_type": "code",
   "execution_count": 32,
   "id": "96de1387",
   "metadata": {},
   "outputs": [
    {
     "data": {
      "text/plain": [
       "array([55, 60, 65, 70, 75])"
      ]
     },
     "execution_count": 32,
     "metadata": {},
     "output_type": "execute_result"
    }
   ],
   "source": [
    "u"
   ]
  },
  {
   "cell_type": "code",
   "execution_count": 33,
   "id": "0ca5933a",
   "metadata": {},
   "outputs": [
    {
     "data": {
      "text/plain": [
       "325"
      ]
     },
     "execution_count": 33,
     "metadata": {},
     "output_type": "execute_result"
    }
   ],
   "source": [
    "u.sum()"
   ]
  },
  {
   "cell_type": "code",
   "execution_count": null,
   "id": "f71e27f9",
   "metadata": {},
   "outputs": [],
   "source": []
  },
  {
   "cell_type": "code",
   "execution_count": null,
   "id": "ae0388f3",
   "metadata": {},
   "outputs": [],
   "source": []
  }
 ],
 "metadata": {
  "kernelspec": {
   "display_name": "Python 3 (ipykernel)",
   "language": "python",
   "name": "python3"
  },
  "language_info": {
   "codemirror_mode": {
    "name": "ipython",
    "version": 3
   },
   "file_extension": ".py",
   "mimetype": "text/x-python",
   "name": "python",
   "nbconvert_exporter": "python",
   "pygments_lexer": "ipython3",
   "version": "3.11.3"
  }
 },
 "nbformat": 4,
 "nbformat_minor": 5
}
